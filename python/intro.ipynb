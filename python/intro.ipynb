{
 "cells": [
  {
   "cell_type": "markdown",
   "id": "66859926",
   "metadata": {},
   "source": [
    "# Python Syntax\n",
    "\n",
    "## What is Syntax?\n",
    "\n",
    "\n"
   ]
  },
  {
   "cell_type": "code",
   "execution_count": 28,
   "id": "be08d11c",
   "metadata": {},
   "outputs": [
    {
     "name": "stdout",
     "output_type": "stream",
     "text": [
      "20\n"
     ]
    }
   ],
   "source": [
    "a = 20\n",
    "print(a)"
   ]
  },
  {
   "cell_type": "code",
   "execution_count": null,
   "id": "3dda763c",
   "metadata": {},
   "outputs": [],
   "source": [
    "crypto = input(\"Enter your favorite crypto asset: \")\n",
    "print(f'Your favorite crypto asset is: {crypto}')"
   ]
  },
  {
   "cell_type": "code",
   "execution_count": null,
   "id": "963e54f2",
   "metadata": {},
   "outputs": [
    {
     "name": "stdout",
     "output_type": "stream",
     "text": [
      "My name is + name\n"
     ]
    }
   ],
   "source": [
    "name = \"Alice\"\n",
    "age = 30\n",
    "print(\"My name is + name\")\n"
   ]
  },
  {
   "cell_type": "code",
   "execution_count": null,
   "id": "10582ba4",
   "metadata": {},
   "outputs": [
    {
     "name": "stdout",
     "output_type": "stream",
     "text": [
      "50\n"
     ]
    }
   ],
   "source": [
    "a = 20\n",
    "b = 30\n",
    "\n",
    "#Adding a and b to get c\n",
    "c = a + b\n",
    "print(a + b)"
   ]
  },
  {
   "cell_type": "code",
   "execution_count": null,
   "id": "9216bc14",
   "metadata": {},
   "outputs": [
    {
     "name": "stdout",
     "output_type": "stream",
     "text": [
      "My favorite crypto asset is Bitcoin\n"
     ]
    }
   ],
   "source": [
    "# f-strings\n",
    "crypto_asset = \"Bitcoin\"\n",
    "print(f'My favorite crypto asset is {crypto_asset}')"
   ]
  },
  {
   "cell_type": "code",
   "execution_count": null,
   "id": "ec3cf0e9",
   "metadata": {},
   "outputs": [
    {
     "name": "stdout",
     "output_type": "stream",
     "text": [
      "My favorite crypto asset is solana\n"
     ]
    }
   ],
   "source": [
    "crypto = input(\"Enter your favorite crypto asset: \")\n",
    "print(\"My favorite crypto asset is \" + crypto)"
   ]
  },
  {
   "cell_type": "code",
   "execution_count": null,
   "id": "50131601",
   "metadata": {},
   "outputs": [
    {
     "name": "stdout",
     "output_type": "stream",
     "text": [
      "40\n",
      "Your are 40 years old\n"
     ]
    }
   ],
   "source": [
    "age=int(input(\"Enter your age: \"))\n",
    "print(age)\n",
    "print(f'Your are {age} years old')"
   ]
  },
  {
   "cell_type": "markdown",
   "id": "f8fcfaaa",
   "metadata": {},
   "source": [
    "# Variables\n",
    "\n",
    "## What is a Variables ?\n",
    "\n",
    "A named container that stores data (like a labelled box)"
   ]
  },
  {
   "cell_type": "code",
   "execution_count": null,
   "id": "8e6c6a9c",
   "metadata": {},
   "outputs": [],
   "source": [
    "# Assignment\n",
    "\n",
    "x = 10\n",
    "y = 20\n",
    "\n",
    "# Multiple assignment\n",
    "x, y = 10, 20"
   ]
  },
  {
   "cell_type": "markdown",
   "id": "856ea56b",
   "metadata": {},
   "source": [
    "# Data Types\n",
    "\n",
    "## What are Data Types\n",
    "\n",
    "A Python data type specifies the category of data a variable can cab store, determinig its behaviour and allowed operations\n",
    "\n",
    "### Common Types\n",
    "\n",
    "### Text Data Type"
   ]
  },
  {
   "cell_type": "code",
   "execution_count": null,
   "id": "9375156f",
   "metadata": {},
   "outputs": [
    {
     "name": "stdout",
     "output_type": "stream",
     "text": [
      "I live in Lagos, Nigeria\n"
     ]
    }
   ],
   "source": [
    "# Text Data Type\n",
    "# Also known as string, are used to represent text\n",
    "\n",
    "place = \"Lagos\"         # This is a string variable\n",
    "country = \"Nigeria\"     # This is another string variable\n",
    "print(f'I live in {place}, {country}')"
   ]
  },
  {
   "cell_type": "markdown",
   "id": "15c9e9be",
   "metadata": {},
   "source": [
    "### Numeric Data Type\n"
   ]
  },
  {
   "cell_type": "code",
   "execution_count": null,
   "id": "5105ef19",
   "metadata": {},
   "outputs": [],
   "source": [
    "# Numeric Data Type\n",
    "\n",
    "number = 10     # This is an integer variable\n",
    "height = 4.7    # This is a float variabl"
   ]
  },
  {
   "cell_type": "markdown",
   "id": "ad16efda",
   "metadata": {},
   "source": [
    "### Boolen Data Type"
   ]
  },
  {
   "cell_type": "code",
   "execution_count": null,
   "id": "d7a02661",
   "metadata": {},
   "outputs": [],
   "source": [
    "# Boolen Data Type\n",
    "\n",
    "is_valid = True  # This is a boolean variable (True)\n",
    "invalid = False  # This is another boolean variable (False)"
   ]
  },
  {
   "cell_type": "markdown",
   "id": "363be85c",
   "metadata": {},
   "source": [
    "### Sequence Data Type\n"
   ]
  },
  {
   "cell_type": "code",
   "execution_count": null,
   "id": "3548b4ee",
   "metadata": {},
   "outputs": [
    {
     "data": {
      "text/plain": [
       "['Bitcoin', 'Ethereum', 'Litecoin']"
      ]
     },
     "execution_count": 16,
     "metadata": {},
     "output_type": "execute_result"
    }
   ],
   "source": [
    "cryptos = [\"Bitcoin\", \"Ethereum\", \"Litecoin\"]  # This is a list variable\n",
    "cryptos\n"
   ]
  },
  {
   "cell_type": "code",
   "execution_count": 1,
   "id": "ead92bbf",
   "metadata": {},
   "outputs": [
    {
     "name": "stdout",
     "output_type": "stream",
     "text": [
      "{'btc': 90000, 'eth': 2000, 'ltc': 150}\n"
     ]
    }
   ],
   "source": [
    "dict = {'btc': 90000, 'eth': 2000, 'ltc': 150}  # This is a dictionary variable\n",
    "print(dict)"
   ]
  },
  {
   "cell_type": "code",
   "execution_count": null,
   "id": "c8fec950",
   "metadata": {},
   "outputs": [],
   "source": [
    "# Sequence Data Type\n",
    "\n",
    "list_example = [1, 2, 3, 4, 5]  # A list is an ordered collection of items\n",
    "\n",
    "tuple_example = (1, 2, 3)  # A tuple is an ordered collection of items that cannot be changed\n",
    "\n",
    "dictionary_example = {\"key1\": \"value1\", \"key2\": \"value2\"}  # A dictionary is a collection of key-value pairs\n",
    "\n",
    "set_example = {1, 2, 3}  # A set is an unordered collection of unique items\n"
   ]
  },
  {
   "cell_type": "markdown",
   "id": "802ac8e4",
   "metadata": {},
   "source": [
    "### None Data Types"
   ]
  },
  {
   "cell_type": "code",
   "execution_count": null,
   "id": "e9f5d74c",
   "metadata": {},
   "outputs": [],
   "source": [
    "none_value = None  # This is a NoneType variable, represents the absence of a value"
   ]
  },
  {
   "cell_type": "markdown",
   "id": "28329353",
   "metadata": {},
   "source": [
    "### Checking Data Types"
   ]
  },
  {
   "cell_type": "code",
   "execution_count": 3,
   "id": "16f55492",
   "metadata": {},
   "outputs": [
    {
     "name": "stdout",
     "output_type": "stream",
     "text": [
      "<class 'int'>\n"
     ]
    }
   ],
   "source": [
    "age = 90\n",
    "print(type(age))  # This will print <class 'int'>\n"
   ]
  },
  {
   "cell_type": "code",
   "execution_count": null,
   "id": "49d48b28",
   "metadata": {},
   "outputs": [
    {
     "name": "stdout",
     "output_type": "stream",
     "text": [
      "<class 'str'> 30 ['Alice', 'Bob', 'Charlie'] {'name': 'Alice', 'age': 30}\n"
     ]
    }
   ],
   "source": [
    "name = \"Alice\"\n",
    "print(type(name))  # This will print <class 'str'>\n",
    "\n",
    "age = 30\n",
    "print(type(age))  # This will print <class 'int'>\n",
    "\n",
    "names= [\"Alice\", \"Bob\", \"Charlie\"]\n",
    "print(type(names))  # This will print <class 'list'>\n",
    "\n",
    "data= {\"name\": \"Alice\", \"age\": 30}\n",
    "print(type(data))  # This will print <class 'dict'>"
   ]
  },
  {
   "cell_type": "markdown",
   "id": "24b9518e",
   "metadata": {},
   "source": [
    "### Converting Data Type"
   ]
  },
  {
   "cell_type": "code",
   "execution_count": 8,
   "id": "7cb63c9c",
   "metadata": {},
   "outputs": [
    {
     "name": "stdout",
     "output_type": "stream",
     "text": [
      "90\n"
     ]
    }
   ],
   "source": [
    "age = '90'\n",
    "age = int(age)  # Convert string to integer\n",
    "print(age)  # This will print 90\n"
   ]
  },
  {
   "cell_type": "code",
   "execution_count": 9,
   "id": "87166d73",
   "metadata": {},
   "outputs": [
    {
     "name": "stdout",
     "output_type": "stream",
     "text": [
      "<class 'int'>\n"
     ]
    }
   ],
   "source": [
    "print(type(age))  # This will print <class 'int'>\n"
   ]
  },
  {
   "cell_type": "code",
   "execution_count": 10,
   "id": "161efbf5",
   "metadata": {},
   "outputs": [
    {
     "name": "stdout",
     "output_type": "stream",
     "text": [
      "10\n"
     ]
    }
   ],
   "source": [
    "number = 10\n",
    "number = str(number)  # Convert integer to string\n",
    "print(number)  # This will print '10'"
   ]
  },
  {
   "cell_type": "code",
   "execution_count": 11,
   "id": "b2e11f0b",
   "metadata": {},
   "outputs": [
    {
     "name": "stdout",
     "output_type": "stream",
     "text": [
      "<class 'str'>\n"
     ]
    }
   ],
   "source": [
    "print(type(number))  # This will print <class 'int'>"
   ]
  }
 ],
 "metadata": {
  "kernelspec": {
   "display_name": "Python 3",
   "language": "python",
   "name": "python3"
  },
  "language_info": {
   "codemirror_mode": {
    "name": "ipython",
    "version": 3
   },
   "file_extension": ".py",
   "mimetype": "text/x-python",
   "name": "python",
   "nbconvert_exporter": "python",
   "pygments_lexer": "ipython3",
   "version": "3.13.5"
  }
 },
 "nbformat": 4,
 "nbformat_minor": 5
}
